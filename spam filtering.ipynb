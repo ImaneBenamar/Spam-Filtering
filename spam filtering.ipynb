{
 "cells": [
  {
   "cell_type": "code",
   "execution_count": 1,
   "metadata": {},
   "outputs": [],
   "source": [
    "import os \n",
    "import io\n",
    "from pandas import DataFrame\n",
    "from sklearn.feature_extraction.text import CountVectorizer\n",
    "from sklearn.naive_bayes import MultinomialNB"
   ]
  },
  {
   "cell_type": "code",
   "execution_count": 2,
   "metadata": {},
   "outputs": [],
   "source": [
    "def readFiles(path):\n",
    "    for root, dirnames, filenames in os.walk(path):\n",
    "        for filename in filenames:\n",
    "            path = os.path.join(root, filename)\n",
    "            \n",
    "            inBody = False\n",
    "            lines = []\n",
    "            f = io.open(path, 'r', encoding=\"latin1\")\n",
    "            for line in f:\n",
    "               # if inBody:\n",
    "                    lines.append(line)\n",
    "               \n",
    "            f.close()\n",
    "            message = '\\n'.join(lines)\n",
    "            yield path, message"
   ]
  },
  {
   "cell_type": "code",
   "execution_count": 3,
   "metadata": {},
   "outputs": [],
   "source": [
    "def dataFrameFromDirectory(path, classification):\n",
    "    rows = []\n",
    "    index = []\n",
    "    for filename, message in readFiles(path):\n",
    "        rows.append({'message':message, 'class':classification})\n",
    "        index.append(filename)\n",
    "        \n",
    "    return DataFrame(rows, index=index)"
   ]
  },
  {
   "cell_type": "code",
   "execution_count": 4,
   "metadata": {},
   "outputs": [],
   "source": [
    "data = DataFrame({'message': [], 'class':[]})"
   ]
  },
  {
   "cell_type": "code",
   "execution_count": 5,
   "metadata": {},
   "outputs": [],
   "source": [
    "data = data.append(dataFrameFromDirectory('D:/IMAN_DISK/all/GI3/DM/Projet/data/spam-train', 'spam'))\n",
    "data = data.append(dataFrameFromDirectory('D:/IMAN_DISK/all/GI3/DM/Projet/data/nonspam-train', 'ham'))"
   ]
  },
  {
   "cell_type": "code",
   "execution_count": 6,
   "metadata": {},
   "outputs": [
    {
     "data": {
      "text/html": [
       "<div>\n",
       "<style scoped>\n",
       "    .dataframe tbody tr th:only-of-type {\n",
       "        vertical-align: middle;\n",
       "    }\n",
       "\n",
       "    .dataframe tbody tr th {\n",
       "        vertical-align: top;\n",
       "    }\n",
       "\n",
       "    .dataframe thead th {\n",
       "        text-align: right;\n",
       "    }\n",
       "</style>\n",
       "<table border=\"1\" class=\"dataframe\">\n",
       "  <thead>\n",
       "    <tr style=\"text-align: right;\">\n",
       "      <th></th>\n",
       "      <th>message</th>\n",
       "      <th>class</th>\n",
       "    </tr>\n",
       "  </thead>\n",
       "  <tbody>\n",
       "    <tr>\n",
       "      <th>D:/IMAN_DISK/all/GI3/DM/Projet/SpamFilterMachineLearning-master/data/spam-train\\spmsga1.txt</th>\n",
       "      <td>great parttime summer job display box credit a...</td>\n",
       "      <td>spam</td>\n",
       "    </tr>\n",
       "    <tr>\n",
       "      <th>D:/IMAN_DISK/all/GI3/DM/Projet/SpamFilterMachineLearning-master/data/spam-train\\spmsga10.txt</th>\n",
       "      <td>auto insurance rate too high dear nlpeople m s...</td>\n",
       "      <td>spam</td>\n",
       "    </tr>\n",
       "    <tr>\n",
       "      <th>D:/IMAN_DISK/all/GI3/DM/Projet/SpamFilterMachineLearning-master/data/spam-train\\spmsga100.txt</th>\n",
       "      <td>want best economical hunt vacation life want b...</td>\n",
       "      <td>spam</td>\n",
       "    </tr>\n",
       "    <tr>\n",
       "      <th>D:/IMAN_DISK/all/GI3/DM/Projet/SpamFilterMachineLearning-master/data/spam-train\\spmsga101.txt</th>\n",
       "      <td>email million million email addresses want mon...</td>\n",
       "      <td>spam</td>\n",
       "    </tr>\n",
       "    <tr>\n",
       "      <th>D:/IMAN_DISK/all/GI3/DM/Projet/SpamFilterMachineLearning-master/data/spam-train\\spmsga103.txt</th>\n",
       "      <td>amaze world record sex attention warn adult wa...</td>\n",
       "      <td>spam</td>\n",
       "    </tr>\n",
       "  </tbody>\n",
       "</table>\n",
       "</div>"
      ],
      "text/plain": [
       "                                                                                              message  \\\n",
       "D:/IMAN_DISK/all/GI3/DM/Projet/SpamFilterMachin...  great parttime summer job display box credit a...   \n",
       "D:/IMAN_DISK/all/GI3/DM/Projet/SpamFilterMachin...  auto insurance rate too high dear nlpeople m s...   \n",
       "D:/IMAN_DISK/all/GI3/DM/Projet/SpamFilterMachin...  want best economical hunt vacation life want b...   \n",
       "D:/IMAN_DISK/all/GI3/DM/Projet/SpamFilterMachin...  email million million email addresses want mon...   \n",
       "D:/IMAN_DISK/all/GI3/DM/Projet/SpamFilterMachin...  amaze world record sex attention warn adult wa...   \n",
       "\n",
       "                                                   class  \n",
       "D:/IMAN_DISK/all/GI3/DM/Projet/SpamFilterMachin...  spam  \n",
       "D:/IMAN_DISK/all/GI3/DM/Projet/SpamFilterMachin...  spam  \n",
       "D:/IMAN_DISK/all/GI3/DM/Projet/SpamFilterMachin...  spam  \n",
       "D:/IMAN_DISK/all/GI3/DM/Projet/SpamFilterMachin...  spam  \n",
       "D:/IMAN_DISK/all/GI3/DM/Projet/SpamFilterMachin...  spam  "
      ]
     },
     "execution_count": 6,
     "metadata": {},
     "output_type": "execute_result"
    }
   ],
   "source": [
    "data.head()"
   ]
  },
  {
   "cell_type": "code",
   "execution_count": 7,
   "metadata": {},
   "outputs": [
    {
     "data": {
      "text/plain": [
       "MultinomialNB(alpha=1.0, class_prior=None, fit_prior=True)"
      ]
     },
     "execution_count": 7,
     "metadata": {},
     "output_type": "execute_result"
    }
   ],
   "source": [
    "vectorizer = CountVectorizer()\n",
    "\n",
    "#how many times each word is accurs in each individual message\n",
    "counts = vectorizer.fit_transform(data['message'].values)\n",
    "\n",
    "classifier = MultinomialNB()\n",
    "targets = data['class'].values\n",
    "classifier.fit(counts, targets)"
   ]
  },
  {
   "cell_type": "code",
   "execution_count": 8,
   "metadata": {},
   "outputs": [
    {
     "data": {
      "text/plain": [
       "array(['ham', 'spam'], dtype='<U4')"
      ]
     },
     "execution_count": 8,
     "metadata": {},
     "output_type": "execute_result"
    }
   ],
   "source": [
    "\n",
    "examples = ['lectureship linguistic s c h o o l o f e n g l s h n d l n g u s t c s u n v e r s t y o f d u r h m lecturer generative linguistics successful candidate must complete process complete doctorate must able demonstrate strong research focus historical linguistics phonology syntax romance linguistics vium dissertation publish work area ability teach sociolinguistic advantage post tenable october salary within range pound per annum lecturer grade scale accord experience further detail obtain personnel officer old shire hall university durham durham dh hp unite kingdom tel fax whom application send later please quote reference a ',\n",
    "           'challenge desk robert g allen dear nlpeople first let ask question want build extra stream income yes let show begin live dream instead wait until s too late interest please forgive intrusion delete letter contact again letterhead name robert allen m book nothe down creat wealth york best seller recent audio program road wealth multiple stream income accord independent research book program create hundred millionaire third book call challenge s true story select woman unemployment line teach success secret ninety day later earn earn m work next challenge call multiple stream income challenge here s challenge test select small group teach brand earn extra stream income want work next challenge join work team highly successful our financial success tie directly successful successful s simple nt want re really add extra stream income therefore ve record message hour voice mail number basic information here s number access fax machine call our fax demand complete overview our company check our web site www usana com call hotline number retrieve fax check web site today glad someone contact information join please send request plumb aristotle net someone respond soon possible wish contact phone please include phone number area code massive success bob allen ']\n",
    "example_counts = vectorizer.transform(examples)\n",
    "predictions = classifier.predict(example_counts)\n",
    "predictions"
   ]
  },
  {
   "cell_type": "code",
   "execution_count": null,
   "metadata": {},
   "outputs": [],
   "source": []
  }
 ],
 "metadata": {
  "kernelspec": {
   "display_name": "Python 3",
   "language": "python",
   "name": "python3"
  },
  "language_info": {
   "codemirror_mode": {
    "name": "ipython",
    "version": 3
   },
   "file_extension": ".py",
   "mimetype": "text/x-python",
   "name": "python",
   "nbconvert_exporter": "python",
   "pygments_lexer": "ipython3",
   "version": "3.7.4"
  }
 },
 "nbformat": 4,
 "nbformat_minor": 2
}
